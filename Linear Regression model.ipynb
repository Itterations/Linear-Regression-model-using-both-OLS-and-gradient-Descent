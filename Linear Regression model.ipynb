{
 "cells": [
  {
   "cell_type": "code",
   "execution_count": 1,
   "id": "d54fed0a",
   "metadata": {},
   "outputs": [],
   "source": [
    "# Importing important libraries to perfom analysis in most efficient and easy way\n",
    "\n",
    "import pandas as pd # EDA\n",
    "import numpy as np # Array operations\n",
    "import matplotlib.pyplot as plt # Data visualisation\n",
    "import seaborn as sns # Data visualisation\n",
    "\n",
    "from sklearn.linear_model import LinearRegression \n",
    "from sklearn.model_selection import train_test_split\n",
    "\n",
    "\n",
    "import sklearn.metrics as metrics  # To calculate the R Square , MSE & RMSE error"
   ]
  },
  {
   "cell_type": "code",
   "execution_count": 2,
   "id": "3093c6cf",
   "metadata": {},
   "outputs": [],
   "source": [
    "# importing the data using pandas library\n",
    "\n",
    "df= pd.read_csv('/home/tensor/Downloads/Mini project1/Data_miniproject.csv')"
   ]
  },
  {
   "cell_type": "markdown",
   "id": "3ec7d825",
   "metadata": {},
   "source": [
    "# EDA (Exploratory Data Analysis)"
   ]
  },
  {
   "cell_type": "code",
   "execution_count": 3,
   "id": "10af755b",
   "metadata": {},
   "outputs": [
    {
     "data": {
      "text/html": [
       "<div>\n",
       "<style scoped>\n",
       "    .dataframe tbody tr th:only-of-type {\n",
       "        vertical-align: middle;\n",
       "    }\n",
       "\n",
       "    .dataframe tbody tr th {\n",
       "        vertical-align: top;\n",
       "    }\n",
       "\n",
       "    .dataframe thead th {\n",
       "        text-align: right;\n",
       "    }\n",
       "</style>\n",
       "<table border=\"1\" class=\"dataframe\">\n",
       "  <thead>\n",
       "    <tr style=\"text-align: right;\">\n",
       "      <th></th>\n",
       "      <th>Cost</th>\n",
       "      <th>Weight</th>\n",
       "      <th>Weight1</th>\n",
       "      <th>Length</th>\n",
       "      <th>Height</th>\n",
       "      <th>Width</th>\n",
       "    </tr>\n",
       "  </thead>\n",
       "  <tbody>\n",
       "    <tr>\n",
       "      <th>0</th>\n",
       "      <td>242.0</td>\n",
       "      <td>23.2</td>\n",
       "      <td>25.4</td>\n",
       "      <td>30</td>\n",
       "      <td>11.5200</td>\n",
       "      <td>4.02</td>\n",
       "    </tr>\n",
       "    <tr>\n",
       "      <th>1</th>\n",
       "      <td>290.0</td>\n",
       "      <td>24</td>\n",
       "      <td>26.3</td>\n",
       "      <td>31.2</td>\n",
       "      <td>12.4800</td>\n",
       "      <td>4.3056</td>\n",
       "    </tr>\n",
       "    <tr>\n",
       "      <th>2</th>\n",
       "      <td>340.0</td>\n",
       "      <td>23.9</td>\n",
       "      <td>26.5</td>\n",
       "      <td>31.1</td>\n",
       "      <td>12.3778</td>\n",
       "      <td>4.6961</td>\n",
       "    </tr>\n",
       "    <tr>\n",
       "      <th>3</th>\n",
       "      <td>363.0</td>\n",
       "      <td>26.3</td>\n",
       "      <td>29.0</td>\n",
       "      <td>33.5</td>\n",
       "      <td>12.7300</td>\n",
       "      <td>4.4555</td>\n",
       "    </tr>\n",
       "    <tr>\n",
       "      <th>4</th>\n",
       "      <td>430.0</td>\n",
       "      <td>26.5</td>\n",
       "      <td>29.0</td>\n",
       "      <td>34</td>\n",
       "      <td>12.4440</td>\n",
       "      <td>5.134</td>\n",
       "    </tr>\n",
       "  </tbody>\n",
       "</table>\n",
       "</div>"
      ],
      "text/plain": [
       "    Cost Weight  Weight1 Length   Height   Width\n",
       "0  242.0   23.2     25.4     30  11.5200    4.02\n",
       "1  290.0     24     26.3   31.2  12.4800  4.3056\n",
       "2  340.0   23.9     26.5   31.1  12.3778  4.6961\n",
       "3  363.0   26.3     29.0   33.5  12.7300  4.4555\n",
       "4  430.0   26.5     29.0     34  12.4440   5.134"
      ]
     },
     "execution_count": 3,
     "metadata": {},
     "output_type": "execute_result"
    }
   ],
   "source": [
    "df.head() # Representation of the first 5 rows of the dataset"
   ]
  },
  {
   "cell_type": "code",
   "execution_count": 4,
   "id": "5c64feb0",
   "metadata": {},
   "outputs": [
    {
     "data": {
      "text/plain": [
       "(159, 6)"
      ]
     },
     "execution_count": 4,
     "metadata": {},
     "output_type": "execute_result"
    }
   ],
   "source": [
    "# Shape of the dataframe\n",
    "df.shape"
   ]
  },
  {
   "cell_type": "markdown",
   "id": "b993969b",
   "metadata": {},
   "source": [
    "Total rows available is 159, hence every feature column must have 159 values."
   ]
  },
  {
   "cell_type": "code",
   "execution_count": 5,
   "id": "455fb4ff",
   "metadata": {
    "scrolled": true
   },
   "outputs": [
    {
     "name": "stdout",
     "output_type": "stream",
     "text": [
      "<class 'pandas.core.frame.DataFrame'>\n",
      "RangeIndex: 159 entries, 0 to 158\n",
      "Data columns (total 6 columns):\n",
      " #   Column   Non-Null Count  Dtype  \n",
      "---  ------   --------------  -----  \n",
      " 0   Cost     159 non-null    float64\n",
      " 1   Weight   159 non-null    object \n",
      " 2   Weight1  159 non-null    float64\n",
      " 3   Length   159 non-null    object \n",
      " 4   Height   158 non-null    float64\n",
      " 5   Width    158 non-null    object \n",
      "dtypes: float64(3), object(3)\n",
      "memory usage: 7.6+ KB\n"
     ]
    }
   ],
   "source": [
    "df.info()"
   ]
  },
  {
   "cell_type": "markdown",
   "id": "b909a047",
   "metadata": {},
   "source": [
    "Here Weight, Length & Width has datatype as object though these are float64 type values"
   ]
  },
  {
   "cell_type": "code",
   "execution_count": 6,
   "id": "f00c8073",
   "metadata": {},
   "outputs": [],
   "source": [
    "# Changing the datatype of the columns to float64\n",
    "\n",
    "df['Weight'] = pd.to_numeric(df['Weight'],errors = 'coerce')\n",
    "df['Length'] = pd.to_numeric(df['Length'],errors = 'coerce')\n",
    "df['Width'] = pd.to_numeric(df['Width'],errors = 'coerce')"
   ]
  },
  {
   "cell_type": "code",
   "execution_count": 7,
   "id": "5fb57192",
   "metadata": {},
   "outputs": [
    {
     "name": "stdout",
     "output_type": "stream",
     "text": [
      "<class 'pandas.core.frame.DataFrame'>\n",
      "RangeIndex: 159 entries, 0 to 158\n",
      "Data columns (total 6 columns):\n",
      " #   Column   Non-Null Count  Dtype  \n",
      "---  ------   --------------  -----  \n",
      " 0   Cost     159 non-null    float64\n",
      " 1   Weight   157 non-null    float64\n",
      " 2   Weight1  159 non-null    float64\n",
      " 3   Length   158 non-null    float64\n",
      " 4   Height   158 non-null    float64\n",
      " 5   Width    157 non-null    float64\n",
      "dtypes: float64(6)\n",
      "memory usage: 7.6 KB\n"
     ]
    }
   ],
   "source": [
    "df.info()"
   ]
  },
  {
   "cell_type": "markdown",
   "id": "aa1a806b",
   "metadata": {},
   "source": [
    "# Available features\n",
    "\n",
    "Height – The height of the bag\n",
    "\n",
    "Width – The width of the bag\n",
    "\n",
    "Length – The length of the bag\n",
    "\n",
    "Weight – The weight the bag can carry\n",
    "\n",
    "Weight1 – Weight the bag can carry after expansion"
   ]
  },
  {
   "cell_type": "markdown",
   "id": "3913e401",
   "metadata": {},
   "source": [
    " "
   ]
  },
  {
   "cell_type": "markdown",
   "id": "4ed8cfff",
   "metadata": {},
   "source": [
    " "
   ]
  },
  {
   "cell_type": "markdown",
   "id": "a5e151b6",
   "metadata": {},
   "source": [
    " Now we need to detect the outliers first so it do not impact the mean/median values of perticular feature hence the further analysis."
   ]
  },
  {
   "cell_type": "code",
   "execution_count": 8,
   "id": "7dcc2699",
   "metadata": {},
   "outputs": [
    {
     "name": "stdout",
     "output_type": "stream",
     "text": [
      "Index(['Weight', 'Weight1', 'Length', 'Height', 'Width'], dtype='object')\n"
     ]
    },
    {
     "data": {
      "image/png": "[encoded data removed]",
      "text/plain": [
       "<Figure size 432x288 with 1 Axes>"
      ]
     },
     "metadata": {
      "needs_background": "light"
     },
     "output_type": "display_data"
    },
    {
     "data": {
      "image/png": "[encoded data removed]",
      "text/plain": [
       "<Figure size 432x288 with 1 Axes>"
      ]
     },
     "metadata": {
      "needs_background": "light"
     },
     "output_type": "display_data"
    },
    {
     "data": {
      "image/png": "[encoded data removed]",
      "text/plain": [
       "<Figure size 432x288 with 1 Axes>"
      ]
     },
     "metadata": {
      "needs_background": "light"
     },
     "output_type": "display_data"
    },
    {
     "data": {
      "image/png": "[encoded data removed]",
      "text/plain": [
       "<Figure size 432x288 with 1 Axes>"
      ]
     },
     "metadata": {
      "needs_background": "light"
     },
     "output_type": "display_data"
    },
    {
     "data": {
      "image/png": "[encoded data removed]",
      "text/plain": [
       "<Figure size 432x288 with 1 Axes>"
      ]
     },
     "metadata": {
      "needs_background": "light"
     },
     "output_type": "display_data"
    }
   ],
   "source": [
    "# Outlier Detection\n",
    "\n",
    "column = df.columns\n",
    "feature = column[1:]\n",
    "print(feature)\n",
    "\n",
    "for i in feature:\n",
    "    plt.subplot(2,1,1)\n",
    "    df[i].plot(kind = 'box', color='r')\n",
    "    plt.show()\n",
    "  "
   ]
  },
  {
   "cell_type": "markdown",
   "id": "1419fe65",
   "metadata": {},
   "source": [
    "As per the boxplot shown above there are outliers available in our dataset. In the feature \"Width\" we have outlier point which could be an typo error as it way behyond the value range of the feature. Hence we need to remove it.\n",
    "\n",
    "\n",
    "Other outliers are within the permissible range and can be left as it is."
   ]
  },
  {
   "cell_type": "markdown",
   "id": "cd968309",
   "metadata": {},
   "source": [
    " "
   ]
  },
  {
   "cell_type": "markdown",
   "id": "5601174d",
   "metadata": {},
   "source": [
    " "
   ]
  },
  {
   "cell_type": "code",
   "execution_count": 9,
   "id": "cf9a1e62",
   "metadata": {},
   "outputs": [],
   "source": [
    "# Outliers removal (IQR/Inter Quartile Range method)\n",
    "\n",
    "\n",
    "i='Width'\n",
    "\n",
    "Q1= df[i].quantile(0.25)\n",
    "Q2= df[i].quantile(0.5) # This is the median or 50% of the boxplot \n",
    "Q3= df[i].quantile(0.75)\n",
    "IQR = Q3-Q1\n",
    "    \n",
    "lower_limit = Q1 -1.5*IQR # Values below this will be considered as outiers\n",
    "upper_limit = Q3 + 1.5*IQR # Values above/more than this will be considered as outliers\n",
    "\n",
    "\n",
    "for j in range(len(df[i])): # Drop the row containing outlier value\n",
    "    if df[i].iloc[j]< lower_limit or df[i].iloc[j]>upper_limit:\n",
    "        df.drop([j],axis=0,inplace = True)\n",
    "        break\n",
    "\n",
    "for k in feature:            # replacing the null values with mean value\n",
    "    df[k].fillna(df[k].mean(),inplace=True)    \n",
    "\n",
    "            "
   ]
  },
  {
   "cell_type": "markdown",
   "id": "21cbf8a3",
   "metadata": {},
   "source": [
    " "
   ]
  },
  {
   "cell_type": "code",
   "execution_count": 10,
   "id": "4044ae88",
   "metadata": {},
   "outputs": [
    {
     "data": {
      "text/plain": [
       "Cost       0\n",
       "Weight     0\n",
       "Weight1    0\n",
       "Length     0\n",
       "Height     0\n",
       "Width      0\n",
       "dtype: int64"
      ]
     },
     "execution_count": 10,
     "metadata": {},
     "output_type": "execute_result"
    }
   ],
   "source": [
    "df.isnull().sum()  # Counting the null value/empty values in our data"
   ]
  },
  {
   "cell_type": "markdown",
   "id": "c64d5d89",
   "metadata": {},
   "source": [
    "Null values are present in the dataset. Since all the feature contains numeric values we can replace the null with the median values of the respective feature."
   ]
  },
  {
   "cell_type": "markdown",
   "id": "f798f223",
   "metadata": {},
   "source": [
    "As per above details there are no null values present in dataframe now."
   ]
  },
  {
   "cell_type": "code",
   "execution_count": 11,
   "id": "957c4e64",
   "metadata": {},
   "outputs": [
    {
     "data": {
      "text/html": [
       "<div>\n",
       "<style scoped>\n",
       "    .dataframe tbody tr th:only-of-type {\n",
       "        vertical-align: middle;\n",
       "    }\n",
       "\n",
       "    .dataframe tbody tr th {\n",
       "        vertical-align: top;\n",
       "    }\n",
       "\n",
       "    .dataframe thead th {\n",
       "        text-align: right;\n",
       "    }\n",
       "</style>\n",
       "<table border=\"1\" class=\"dataframe\">\n",
       "  <thead>\n",
       "    <tr style=\"text-align: right;\">\n",
       "      <th></th>\n",
       "      <th>Cost</th>\n",
       "      <th>Weight</th>\n",
       "      <th>Weight1</th>\n",
       "      <th>Length</th>\n",
       "      <th>Height</th>\n",
       "      <th>Width</th>\n",
       "    </tr>\n",
       "  </thead>\n",
       "  <tbody>\n",
       "    <tr>\n",
       "      <th>count</th>\n",
       "      <td>158.000000</td>\n",
       "      <td>158.000000</td>\n",
       "      <td>158.000000</td>\n",
       "      <td>158.000000</td>\n",
       "      <td>158.000000</td>\n",
       "      <td>158.000000</td>\n",
       "    </tr>\n",
       "    <tr>\n",
       "      <th>mean</th>\n",
       "      <td>390.720886</td>\n",
       "      <td>26.069231</td>\n",
       "      <td>28.215823</td>\n",
       "      <td>31.030573</td>\n",
       "      <td>8.928876</td>\n",
       "      <td>4.422621</td>\n",
       "    </tr>\n",
       "    <tr>\n",
       "      <th>std</th>\n",
       "      <td>345.989767</td>\n",
       "      <td>9.733870</td>\n",
       "      <td>10.448780</td>\n",
       "      <td>11.346936</td>\n",
       "      <td>4.272735</td>\n",
       "      <td>1.667513</td>\n",
       "    </tr>\n",
       "    <tr>\n",
       "      <th>min</th>\n",
       "      <td>0.000000</td>\n",
       "      <td>7.500000</td>\n",
       "      <td>8.400000</td>\n",
       "      <td>8.800000</td>\n",
       "      <td>1.728400</td>\n",
       "      <td>1.047600</td>\n",
       "    </tr>\n",
       "    <tr>\n",
       "      <th>25%</th>\n",
       "      <td>120.000000</td>\n",
       "      <td>19.025000</td>\n",
       "      <td>21.000000</td>\n",
       "      <td>23.125000</td>\n",
       "      <td>5.940600</td>\n",
       "      <td>3.398650</td>\n",
       "    </tr>\n",
       "    <tr>\n",
       "      <th>50%</th>\n",
       "      <td>272.500000</td>\n",
       "      <td>25.300000</td>\n",
       "      <td>27.150000</td>\n",
       "      <td>29.700000</td>\n",
       "      <td>7.733000</td>\n",
       "      <td>4.277050</td>\n",
       "    </tr>\n",
       "    <tr>\n",
       "      <th>75%</th>\n",
       "      <td>642.500000</td>\n",
       "      <td>32.650000</td>\n",
       "      <td>35.000000</td>\n",
       "      <td>39.575000</td>\n",
       "      <td>12.248700</td>\n",
       "      <td>5.577375</td>\n",
       "    </tr>\n",
       "    <tr>\n",
       "      <th>max</th>\n",
       "      <td>1650.000000</td>\n",
       "      <td>59.000000</td>\n",
       "      <td>63.400000</td>\n",
       "      <td>68.000000</td>\n",
       "      <td>18.957000</td>\n",
       "      <td>8.142000</td>\n",
       "    </tr>\n",
       "  </tbody>\n",
       "</table>\n",
       "</div>"
      ],
      "text/plain": [
       "              Cost      Weight     Weight1      Length      Height       Width\n",
       "count   158.000000  158.000000  158.000000  158.000000  158.000000  158.000000\n",
       "mean    390.720886   26.069231   28.215823   31.030573    8.928876    4.422621\n",
       "std     345.989767    9.733870   10.448780   11.346936    4.272735    1.667513\n",
       "min       0.000000    7.500000    8.400000    8.800000    1.728400    1.047600\n",
       "25%     120.000000   19.025000   21.000000   23.125000    5.940600    3.398650\n",
       "50%     272.500000   25.300000   27.150000   29.700000    7.733000    4.277050\n",
       "75%     642.500000   32.650000   35.000000   39.575000   12.248700    5.577375\n",
       "max    1650.000000   59.000000   63.400000   68.000000   18.957000    8.142000"
      ]
     },
     "execution_count": 11,
     "metadata": {},
     "output_type": "execute_result"
    }
   ],
   "source": [
    "df.describe()"
   ]
  },
  {
   "cell_type": "markdown",
   "id": "98877da3",
   "metadata": {},
   "source": [
    "  "
   ]
  },
  {
   "cell_type": "markdown",
   "id": "ab93588d",
   "metadata": {},
   "source": [
    "# Graphs & correlations"
   ]
  },
  {
   "cell_type": "code",
   "execution_count": 12,
   "id": "f394eecc",
   "metadata": {},
   "outputs": [
    {
     "data": {
      "text/plain": [
       "<seaborn.axisgrid.PairGrid at 0x7fbeb2134dc0>"
      ]
     },
     "execution_count": 12,
     "metadata": {},
     "output_type": "execute_result"
    },
    {
     "data": {
      "image/png": "[encoded data removed]",
      "text/plain": [
       "<Figure size 1080x180 with 7 Axes>"
      ]
     },
     "metadata": {
      "needs_background": "light"
     },
     "output_type": "display_data"
    }
   ],
   "source": [
    "sns.pairplot(df, kind = 'reg', y_vars = 'Cost')  "
   ]
  },
  {
   "cell_type": "markdown",
   "id": "1b45b8a5",
   "metadata": {},
   "source": [
    "As per the above plots between cost vs other feature it is evident that there may exist some linear relation."
   ]
  },
  {
   "cell_type": "code",
   "execution_count": 13,
   "id": "76b06948",
   "metadata": {},
   "outputs": [
    {
     "data": {
      "image/png": "[encoded data removed]",
      "text/plain": [
       "<Figure size 432x288 with 2 Axes>"
      ]
     },
     "metadata": {
      "needs_background": "light"
     },
     "output_type": "display_data"
    }
   ],
   "source": [
    "sns.heatmap(df.corr(), annot = True, cmap = 'Blues')\n",
    "plt.show()"
   ]
  },
  {
   "cell_type": "markdown",
   "id": "0409ca92",
   "metadata": {},
   "source": [
    "Above correlation heatmap shows the strong correlation between Cost and other features. Hence all the feature available should be used to create the model."
   ]
  },
  {
   "cell_type": "markdown",
   "id": "c3bb14be",
   "metadata": {},
   "source": [
    "# Model Building"
   ]
  },
  {
   "cell_type": "markdown",
   "id": "c8797f67",
   "metadata": {},
   "source": [
    " lets take the 5 variables as below for the multilinear regression."
   ]
  },
  {
   "cell_type": "code",
   "execution_count": 14,
   "id": "5fa09817",
   "metadata": {},
   "outputs": [],
   "source": [
    "x1 = df['Weight']\n",
    "x2 = df['Weight1']\n",
    "x3 = df['Length']\n",
    "x4 = df['Height']\n",
    "x5 = df['Width']"
   ]
  },
  {
   "cell_type": "markdown",
   "id": "9d116b62",
   "metadata": {},
   "source": [
    "# OLS Method"
   ]
  },
  {
   "cell_type": "code",
   "execution_count": 15,
   "id": "746752d1",
   "metadata": {},
   "outputs": [],
   "source": [
    "df['Ones']=1\n",
    "X = df.drop(['Cost'],axis=1)\n",
    "Y = df['Cost']\n",
    "X = np.array(X)\n",
    "Y = np.array(Y)\n",
    "X_train,X_test , Y_train , Y_test = train_test_split(X,Y,test_size = 0.10, random_state = 100)\n"
   ]
  },
  {
   "cell_type": "code",
   "execution_count": 16,
   "id": "61ab2a30",
   "metadata": {},
   "outputs": [
    {
     "data": {
      "text/plain": [
       "LinearRegression()"
      ]
     },
     "execution_count": 16,
     "metadata": {},
     "output_type": "execute_result"
    }
   ],
   "source": [
    "model = LinearRegression()\n",
    "model.fit(X_train,Y_train)"
   ]
  },
  {
   "cell_type": "code",
   "execution_count": 17,
   "id": "32711599",
   "metadata": {},
   "outputs": [
    {
     "name": "stdout",
     "output_type": "stream",
     "text": [
      "[ 14.10543388  19.42197658 -13.29946051  17.5028858   50.59338936\n",
      "   0.        ]\n",
      "-491.723155804471\n"
     ]
    }
   ],
   "source": [
    "print(model.coef_)\n",
    "print(model.intercept_)"
   ]
  },
  {
   "cell_type": "markdown",
   "id": "260da506",
   "metadata": {},
   "source": [
    "  "
   ]
  },
  {
   "cell_type": "code",
   "execution_count": 18,
   "id": "2381c314",
   "metadata": {},
   "outputs": [
    {
     "name": "stdout",
     "output_type": "stream",
     "text": [
      "[214.3430832  528.87150539 880.71913917 602.26058339 473.80955795\n",
      " 704.41320015 217.4757029  378.93298541 417.8491596  281.19767466\n",
      " 799.39265846 -81.92973757 693.95426996 798.73535088 250.68819571\n",
      " 190.41601427]\n"
     ]
    }
   ],
   "source": [
    "Y_predict = model.predict(X_test)\n",
    "\n",
    "print(Y_predict)"
   ]
  },
  {
   "cell_type": "code",
   "execution_count": 19,
   "id": "62238b93",
   "metadata": {},
   "outputs": [
    {
     "name": "stdout",
     "output_type": "stream",
     "text": [
      "MSE =  9678.39283621898\n",
      "RMSE =  98.37882310852768\n",
      "R Square error =  0.9083216938085532\n"
     ]
    }
   ],
   "source": [
    "mse = metrics.mean_squared_error(Y_test, Y_predict)\n",
    "\n",
    "print( 'MSE = ',mse)\n",
    "\n",
    "rmse = np.sqrt(mse) # or mse**(0.5) \n",
    "print('RMSE = ', rmse)\n",
    "r2 = metrics.r2_score(Y_test,Y_predict)\n",
    "print('R Square error = ', r2)"
   ]
  },
  {
   "cell_type": "markdown",
   "id": "c0c1afae",
   "metadata": {},
   "source": [
    "  "
   ]
  },
  {
   "cell_type": "markdown",
   "id": "12191e29",
   "metadata": {},
   "source": [
    "# Gradient descent"
   ]
  },
  {
   "cell_type": "markdown",
   "id": "6ee2d532",
   "metadata": {},
   "source": [
    "\n"
   ]
  },
  {
   "cell_type": "code",
   "execution_count": 20,
   "id": "1b451784",
   "metadata": {},
   "outputs": [
    {
     "name": "stdout",
     "output_type": "stream",
     "text": [
      "157849.04495265894\n",
      "102283.49554420548\n",
      "74041.63748902032\n",
      "59686.845857064385\n",
      "52390.05487732298\n",
      "48680.44210999937\n",
      "46793.98758202695\n",
      "45834.14111723054\n",
      "45345.23768179479\n",
      "45095.68887195185\n",
      "44967.791582644844\n",
      "44901.7240740455\n",
      "44867.08238437907\n",
      "44848.41392114752\n",
      "44837.86501529666\n",
      "44831.444094713304\n",
      "44827.122469646674\n",
      "44823.86907087124\n",
      "44821.15986245918\n",
      "44818.7285044316\n",
      "44816.43962888474\n",
      "44814.22443351412\n",
      "44812.047947496205\n",
      "44809.89239461448\n",
      "44807.748737689915\n",
      "44805.61238110026\n",
      "44803.480986617076\n",
      "44801.35336332096\n",
      "44799.22890340907\n",
      "44797.10729544838\n",
      "44794.98837863901\n",
      "44792.87206874423\n",
      "44790.75832044529\n",
      "44788.64710820831\n",
      "44786.53841655997\n",
      "44784.43223514549\n",
      "44782.3285562165\n",
      "44780.22737335447\n",
      "44778.12868082187\n",
      "44776.03247323236\n",
      "44773.938745383166\n",
      "44771.847492169894\n",
      "44769.75870854318\n",
      "44767.67238948666\n",
      "44765.58853000585\n",
      "44763.50712512231\n",
      "44761.428169870866\n",
      "44759.35165929803\n",
      "44757.27758846127\n",
      "44755.205952428594\n",
      "44753.13674627829\n",
      "44751.069965098985\n",
      "44749.00560398937\n",
      "44746.94365805832\n",
      "44744.88412242453\n",
      "44742.82699221707\n",
      "44740.772262574814\n",
      "44738.71992864662\n",
      "44736.669985591456\n",
      "44734.62242857808\n",
      "44732.57725278533\n",
      "44730.534453401786\n",
      "44728.4940256261\n",
      "44726.45596466663\n",
      "44724.420265741726\n",
      "44722.386924079394\n",
      "44720.355934917614\n",
      "44718.327293504066\n",
      "44716.300995096164\n",
      "44714.27703496118\n",
      "44712.25540837602\n",
      "44710.23611062726\n",
      "44708.21913701135\n",
      "44706.20448283417\n",
      "44704.19214341143\n",
      "44702.18211406836\n",
      "44700.174390139844\n",
      "44698.16896697033\n",
      "44696.16583991387\n",
      "44694.16500433401\n",
      "44692.16645560386\n",
      "44690.17018910604\n",
      "44688.17620023263\n",
      "44686.18448438525\n",
      "44684.19503697489\n",
      "44682.20785342195\n",
      "44680.22292915634\n",
      "44678.24025961731\n",
      "44676.25984025349\n",
      "44674.28166652287\n",
      "44672.30573389265\n",
      "44670.332037839646\n",
      "44668.3605738497\n",
      "44666.391337417976\n",
      "44664.424324048916\n",
      "44662.45952925622\n",
      "44660.49694856292\n",
      "44658.53657750101\n",
      "44656.57841161178\n",
      "44654.62244644574\n",
      "44652.66867756251\n",
      "44650.71710053077\n",
      "44648.76771092836\n",
      "44646.82050434224\n",
      "44644.87547636837\n",
      "44642.93262261176\n",
      "44640.99193868656\n",
      "44639.05342021579\n",
      "44637.117062831545\n",
      "44635.1828621749\n",
      "44633.25081389586\n",
      "44631.32091365332\n",
      "44629.39315711523\n",
      "44627.467539958336\n",
      "44625.5440578683\n",
      "44623.62270653963\n",
      "44621.70348167573\n",
      "44619.78637898876\n",
      "44617.871394199756\n",
      "44615.95852303853\n",
      "44614.04776124365\n",
      "44612.13910456245\n",
      "44610.232548750995\n",
      "44608.32808957411\n",
      "44606.42572280527\n",
      "44604.5254442267\n",
      "44602.627249629215\n",
      "44600.73113481231\n",
      "44598.83709558414\n",
      "44596.94512776149\n",
      "44595.05522716955\n",
      "44593.16738964245\n",
      "44591.28161102255\n",
      "44589.39788716086\n",
      "44587.516213917006\n",
      "44585.636587159\n",
      "44583.75900276339\n",
      "44581.88345661522\n",
      "44580.00994460796\n",
      "44578.138462643525\n",
      "44576.26900663225\n",
      "44574.401572492876\n",
      "44572.53615615256\n",
      "44570.67275354675\n",
      "44568.811360619344\n",
      "44566.95197332248\n",
      "44565.094587616695\n",
      "44563.2391994708\n",
      "44561.385804861784\n",
      "44559.53439977516\n",
      "44557.68498020438\n",
      "44555.837542151356\n",
      "44553.99208162612\n",
      "44552.148594646955\n",
      "44550.307077240235\n",
      "44548.46752544055\n",
      "44546.62993529066\n",
      "44544.79430284149\n",
      "44542.96062415195\n",
      "44541.12889528921\n",
      "44539.299112328335\n",
      "44537.471271352675\n",
      "44535.64536845337\n",
      "44533.82139972985\n",
      "44531.99936128938\n",
      "44530.17924924737\n",
      "44528.361059726994\n",
      "44526.544788859646\n",
      "44524.73043278451\n",
      "44522.91798764866\n",
      "44521.10744960728\n",
      "44519.29881482328\n",
      "44517.49207946755\n",
      "44515.687239718834\n",
      "44513.884291763665\n",
      "44512.08323179644\n",
      "44510.28405601946\n",
      "44508.4867606427\n",
      "44506.69134188397\n",
      "44504.89779596894\n",
      "44503.10611913089\n",
      "44501.316307610956\n",
      "44499.52835765786\n",
      "44497.742265528264\n",
      "44495.95802748627\n",
      "44494.17563980373\n",
      "44492.39509876033\n",
      "44490.61640064318\n",
      "44488.83954174713\n",
      "44487.064518374544\n",
      "44485.29132683552\n",
      "44483.51996344763\n",
      "44481.75042453609\n",
      "44479.98270643362\n",
      "44478.216805480464\n",
      "44476.4527180244\n",
      "44474.690440420716\n",
      "44472.929969032215\n",
      "44471.17130022914\n",
      "44469.41443038921\n",
      "44467.65935589754\n",
      "44465.90607314669\n",
      "44464.154578536705\n",
      "44462.40486847496\n",
      "44460.656939376146\n",
      "44458.9107876625\n",
      "44457.16640976346\n",
      "44455.42380211581\n",
      "44453.682961163744\n",
      "44451.94388335872\n",
      "44450.206565159446\n",
      "44448.47100303196\n",
      "44446.73719344943\n",
      "44445.005132892475\n",
      "44443.27481784891\n",
      "44441.54624481357\n",
      "44439.81941028867\n",
      "44438.09431078359\n",
      "44436.370942814865\n",
      "44434.64930290612\n",
      "44432.92938758824\n",
      "44431.211193399125\n",
      "44429.494716883884\n",
      "44427.77995459467\n",
      "44426.06690309073\n",
      "44424.355558938434\n",
      "44422.64591871107\n",
      "44420.93797898908\n",
      "44419.23173635993\n",
      "44417.52718741805\n",
      "44415.82432876486\n",
      "44414.123157008835\n",
      "44412.423668765354\n",
      "44410.72586065675\n",
      "44409.02972931237\n",
      "44407.33527136833\n",
      "44405.64248346787\n",
      "44403.951362260916\n",
      "44402.26190440446\n",
      "44400.57410656223\n",
      "44398.88796540486\n",
      "44397.20347760978\n",
      "44395.52063986128\n",
      "44393.83944885055\n",
      "44392.15990127543\n",
      "44390.48199384065\n",
      "44388.8057232576\n",
      "44387.131086244575\n",
      "44385.4580795265\n",
      "44383.786699835044\n",
      "44382.11694390859\n",
      "44380.44880849229\n",
      "44378.78229033792\n",
      "44377.11738620391\n",
      "44375.45409285536\n",
      "44373.79240706406\n",
      "44372.13232560844\n",
      "44370.473845273504\n",
      "44368.81696285084\n",
      "44367.161675138734\n",
      "44365.50797894183\n",
      "44363.85587107164\n",
      "44362.20534834603\n",
      "44360.556407589334\n",
      "44358.90904563269\n",
      "44357.2632593134\n",
      "44355.61904547557\n",
      "44353.97640096961\n",
      "44352.335322652376\n",
      "44350.69580738741\n",
      "44349.0578520444\n",
      "44347.421453499664\n",
      "44345.78660863587\n",
      "44344.15331434207\n",
      "44342.52156751379\n",
      "44340.89136505283\n",
      "44339.26270386746\n",
      "44337.63558087215\n",
      "44336.0099929879\n",
      "44334.385937141844\n",
      "44332.76341026763\n",
      "44331.142409304965\n",
      "44329.52293120011\n",
      "44327.904972905366\n",
      "44326.28853137949\n",
      "44324.673603587304\n",
      "44323.06018649994\n",
      "44321.448277094816\n",
      "44319.83787235551\n",
      "44318.22896927179\n",
      "44316.62156483961\n",
      "44315.01565606102\n",
      "44313.41123994441\n",
      "44311.808313504145\n",
      "44310.206873760806\n",
      "44308.60691774111\n",
      "44307.00844247778\n",
      "44305.411445009755\n",
      "44303.815922381975\n",
      "44302.22187164552\n",
      "44300.62928985746\n",
      "44299.03817408091\n",
      "44297.448521385086\n",
      "44295.86032884517\n",
      "44294.273593542406\n",
      "44292.688312563914\n",
      "44291.104483002964\n",
      "44289.52210195864\n",
      "44287.941166536046\n",
      "44286.36167384634\n",
      "44284.7836210064\n",
      "44283.20700513922\n",
      "44281.63182337359\n",
      "44280.05807284425\n",
      "44278.48575069184\n",
      "44276.91485406278\n",
      "44275.34538010946\n",
      "44273.77732599008\n",
      "44272.21068886861\n",
      "44270.64546591495\n",
      "44269.08165430479\n",
      "44267.519251219564\n",
      "44265.95825384652\n",
      "44264.39865937879\n",
      "44262.84046501509\n",
      "44261.28366796002\n",
      "44259.72826542385\n",
      "44258.174254622645\n",
      "44256.62163277812\n",
      "44255.07039711774\n",
      "44253.52054487472\n",
      "44251.97207328778\n",
      "44250.42497960154\n",
      "44248.879261066075\n",
      "44247.33491493726\n",
      "44245.79193847649\n",
      "44244.25032895093\n",
      "44242.71008363317\n",
      "44241.171199801574\n",
      "44239.633674740006\n",
      "44238.09750573787\n",
      "44236.56269009026\n",
      "44235.02922509777\n",
      "44233.49710806648\n",
      "44231.96633630812\n",
      "44230.43690713976\n",
      "44228.90881788422\n",
      "44227.38206586962\n",
      "44225.856648429646\n",
      "44224.33256290354\n",
      "44222.80980663574\n",
      "44221.2883769765\n",
      "44219.768271281275\n",
      "44218.24948691105\n",
      "44216.73202123214\n",
      "44215.21587161634\n",
      "44213.70103544087\n",
      "44212.18751008825\n",
      "44210.67529294646\n",
      "44209.16438140879\n",
      "44207.65477287388\n",
      "44206.14646474577\n",
      "44204.6394544338\n",
      "44203.13373935267\n",
      "44201.62931692219\n",
      "44200.12618456775\n",
      "44198.6243397199\n",
      "44197.12377981447\n",
      "44195.62450229253\n",
      "44194.126504600405\n",
      "44192.62978418978\n",
      "44191.13433851743\n",
      "44189.64016504543\n",
      "44188.147261241036\n",
      "44186.655624576735\n",
      "44185.16525253018\n",
      "44183.67614258419\n",
      "44182.18829222683\n",
      "44180.70169895121\n",
      "44179.21636025568\n",
      "44177.732273643735\n",
      "44176.2494366239\n",
      "44174.7678467099\n",
      "44173.28750142055\n",
      "44171.808398279754\n",
      "44170.330534816516\n",
      "44168.853908564815\n",
      "44167.378517063895\n",
      "44165.90435785789\n",
      "44164.43142849597\n",
      "44162.959726532485\n",
      "44161.48924952668\n",
      "44160.019995042865\n",
      "44158.5519606503\n",
      "44157.08514392331\n",
      "44155.61954244113\n",
      "44154.15515378803\n",
      "44152.69197555324\n",
      "44151.230005330886\n",
      "44149.76924072003\n",
      "44148.30967932476\n",
      "44146.85131875396\n",
      "44145.39415662155\n",
      "44143.93819054626\n",
      "44142.483418151714\n",
      "44141.02983706649\n",
      "44139.57744492394\n",
      "44138.126239362384\n",
      "44136.67621802484\n",
      "44135.227378559335\n",
      "44133.77971861866\n",
      "44132.33323586029\n",
      "44130.887927946795\n",
      "44129.44379254525\n",
      "44128.00082732776\n",
      "44126.55902997104\n",
      "44125.1183981567\n",
      "44123.67892957098\n",
      "44122.240621905\n",
      "44120.80347285455\n",
      "44119.3674801202\n",
      "44117.93264140715\n",
      "44116.49895442544\n",
      "44115.06641688967\n",
      "44113.63502651932\n",
      "44112.20478103831\n",
      "44110.77567817543\n",
      "44109.34771566409\n",
      "44107.92089124231\n",
      "44106.49520265278\n",
      "44105.07064764285\n",
      "44103.64722396441\n",
      "44102.22492937415\n",
      "44100.803761633084\n",
      "44099.38371850711\n",
      "44097.96479776654\n",
      "44096.5469971863\n",
      "44095.13031454587\n",
      "44093.71474762939\n",
      "44092.30029422549\n",
      "44090.886952127206\n",
      "44089.47471913234\n",
      "44088.063593043094\n",
      "44086.65357166614\n",
      "44085.24465281272\n",
      "44083.83683429859\n",
      "44082.430113943956\n",
      "44081.02448957344\n",
      "44079.619959016294\n",
      "44078.21652010602\n",
      "44076.81417068076\n",
      "44075.412908583\n",
      "44074.012731659655\n",
      "44072.61363776203\n",
      "44071.21562474591\n",
      "44069.81869047148\n",
      "44068.422832803306\n",
      "44067.02804961032\n",
      "44065.63433876582\n",
      "44064.24169814744\n",
      "44062.850125637335\n",
      "44061.459619121844\n",
      "44060.07017649164\n",
      "44058.6817956419\n",
      "44057.29447447193\n",
      "44055.90821088542\n",
      "44054.52300279045\n",
      "44053.13884809918\n",
      "44051.755744728325\n",
      "44050.37369059869\n",
      "44048.992683635406\n",
      "44047.61272176787\n",
      "44046.2338029297\n",
      "44044.85592505886\n",
      "44043.479086097366\n",
      "44042.10328399159\n",
      "44040.728516692165\n",
      "44039.35478215373\n",
      "44037.98207833535\n",
      "44036.6104032002\n",
      "44035.23975471559\n",
      "44033.87013085297\n",
      "44032.50152958806\n",
      "44031.13394890078\n",
      "44029.76738677499\n",
      "44028.40184119887\n",
      "44027.03731016466\n",
      "44025.67379166872\n",
      "44024.311283711584\n",
      "44022.94978429779\n",
      "44021.58929143612\n",
      "44020.22980313922\n",
      "44018.87131742406\n",
      "44017.51383231153\n",
      "44016.1573458266\n",
      "44014.801855998354\n",
      "44013.44736085987\n",
      "44012.09385844832\n",
      "44010.741346804796\n",
      "44009.38982397451\n",
      "44008.03928800673\n",
      "44006.68973695457\n",
      "44005.341168875246\n",
      "44003.99358182997\n",
      "44002.64697388388\n",
      "44001.30134310622\n",
      "43999.95668756993\n",
      "43998.61300535216\n",
      "43997.27029453397\n",
      "43995.92855320025\n",
      "43994.58777943989\n",
      "43993.24797134568\n",
      "43991.90912701434\n",
      "43990.571244546496\n",
      "43989.23432204672\n",
      "43987.89835762337\n",
      "43986.563349388794\n",
      "43985.229295459125\n",
      "43983.89619395442\n",
      "43982.5640429986\n",
      "43981.23284071942\n",
      "43979.9025852485\n",
      "43978.57327472118\n",
      "43977.24490727682\n",
      "43975.91748105843\n",
      "43974.59099421296\n",
      "43973.2654448911\n",
      "43971.94083124731\n",
      "43970.61715143992\n",
      "43969.29440363094\n",
      "43967.97258598625\n",
      "43966.651696675406\n",
      "43965.33173387176\n",
      "43964.01269575253\n",
      "43962.694580498486\n",
      "43961.37738629414\n",
      "43960.06111132794\n",
      "43958.745753791845\n",
      "43957.43131188162\n",
      "43956.1177837967\n",
      "43954.80516774022\n",
      "43953.493461918995\n",
      "43952.1826645436\n",
      "43950.87277382817\n",
      "43949.563787990555\n",
      "43948.255705252326\n",
      "43946.948523838524\n",
      "43945.642241978094\n",
      "43944.33685790335\n",
      "43943.03236985039\n",
      "43941.72877605896\n",
      "43940.426074772324\n",
      "43939.12426423739\n",
      "43937.82334270465\n",
      "43936.52330842819\n"
     ]
    }
   ],
   "source": [
    "# Deifining the cost function\n",
    "def cost(X_train,coef):\n",
    "    total_cost =0\n",
    "    for i in range(len(X_train)):\n",
    "        total_cost += (1/len(X_train))* ((X_train[i]*coef).sum()-Y_train[i])**2\n",
    "    return total_cost\n",
    "\n",
    "    \n",
    "# Gradient Descent\n",
    "def GD(X_train,coef,lr,epoch):\n",
    "    \n",
    "    for i in range(epoch):\n",
    "        derivative = np.zeros(6)\n",
    "        for j in range(len(X_train)):\n",
    "            for k in range(6):\n",
    "                derivative[k] += (1/len(X_train))* ((X_train[j]*coef).sum()-Y_train[j])*X_train[j][k]\n",
    "                      \n",
    "        coef = coef - lr*derivative\n",
    "        print(cost(X_train,coef))\n",
    "    \n",
    "    return coef\n",
    "                \n",
    "\n",
    "# Running Gradient Descent\n",
    "coef = np.zeros(6)\n",
    "lr = 0.0001\n",
    "epoch = 555\n",
    "coef = GD(X_train,coef,lr,epoch)\n"
   ]
  },
  {
   "cell_type": "code",
   "execution_count": 21,
   "id": "f1f0d250",
   "metadata": {},
   "outputs": [
    {
     "name": "stdout",
     "output_type": "stream",
     "text": [
      "MSE =  42934.31440989741\n",
      "RMSE =  207.20597098032047\n",
      "R Square error =  0.5933059042757208\n"
     ]
    }
   ],
   "source": [
    "\n",
    "for i in range(len(X_test)):\n",
    "        Y_predict[i] = coef[0]*X_test[i][0]+coef[1]*X_test[i][1]+coef[2]*X_test[i][2]+coef[3]*X_test[i][3]+coef[4]*X_test[i][4]+coef[5]*X_test[i][5]\n",
    "\n",
    "\n",
    "mse = metrics.mean_squared_error(Y_test, Y_predict)\n",
    "\n",
    "print( 'MSE = ',mse)\n",
    "\n",
    "rmse = np.sqrt(mse) # or mse**(0.5) \n",
    "print('RMSE = ', rmse)\n",
    "r2 = metrics.r2_score(Y_test,Y_predict)\n",
    "print('R Square error = ', r2)\n"
   ]
  },
  {
   "cell_type": "markdown",
   "id": "e195bcd6",
   "metadata": {},
   "source": [
    "# Stochastic Gradient descent"
   ]
  },
  {
   "cell_type": "code",
   "execution_count": 22,
   "id": "0b77ee86",
   "metadata": {},
   "outputs": [
    {
     "name": "stdout",
     "output_type": "stream",
     "text": [
      "84.84685914024706\n",
      "84.05304364320621\n",
      "82.38444675205358\n",
      "80.42019552484786\n",
      "77.54347374697647\n",
      "73.51047313530432\n",
      "68.91202059266101\n",
      "64.19472998114824\n",
      "59.051862616617555\n",
      "53.711481687269625\n",
      "47.695521892144406\n",
      "41.23119702883067\n",
      "34.4809092202046\n",
      "28.10847505659678\n",
      "21.59930576258354\n",
      "15.254441427154976\n",
      "9.602063197521243\n",
      "4.837530712477487\n",
      "1.5355789218528504\n",
      "0.045326542395865456\n",
      "0.712193899468791\n",
      "3.853508678456139\n",
      "9.858657888756294\n",
      "19.169072812889492\n",
      "31.815125455909747\n",
      "48.48243590523186\n",
      "69.55867062764403\n",
      "95.27749293549111\n",
      "126.29073755493603\n",
      "163.51262505246297\n",
      "207.06815032649297\n",
      "257.4267977055567\n",
      "315.3121982252673\n",
      "381.36282393611344\n",
      "455.8717917856181\n",
      "536.3306915110096\n",
      "622.0613210642748\n",
      "710.6388637490464\n",
      "799.8806125590996\n",
      "893.7737801159847\n",
      "985.4902384414856\n",
      "1072.3368768963637\n",
      "1155.5327082969009\n",
      "1239.5492749033488\n",
      "1317.352561117448\n",
      "1393.530729069865\n",
      "1459.824988351233\n",
      "1517.8065240872825\n",
      "1576.3006141594926\n",
      "1626.5624760940977\n",
      "1674.103482325078\n",
      "1701.5830736554994\n",
      "1716.8575188763245\n",
      "1729.8392797596073\n",
      "1739.2101874518291\n",
      "1737.26908379643\n",
      "1729.106291663884\n",
      "1719.647758103875\n",
      "1709.487531637393\n",
      "1699.6857037356299\n",
      "1690.6489212094225\n",
      "1678.4773780614703\n",
      "1640.034335933915\n",
      "1593.7379107072907\n",
      "1547.3145762491843\n",
      "1498.6341261236985\n",
      "1446.4771879625691\n",
      "1389.7077785013362\n",
      "1332.577039044938\n",
      "1272.4876138071272\n",
      "1211.6297523191226\n",
      "1149.694746533922\n",
      "1087.3173285830744\n",
      "1025.9321050056556\n",
      "964.0854608312173\n",
      "901.3299273225683\n",
      "838.5779983687189\n",
      "770.7672900619535\n",
      "699.8880405031271\n",
      "628.100762555648\n",
      "556.7287022132876\n",
      "489.5641365708311\n",
      "423.9239851937506\n",
      "362.70644029202083\n",
      "303.9188974108344\n",
      "250.28794707434676\n",
      "200.25359194348997\n",
      "155.52765529402538\n",
      "115.56606975961866\n",
      "81.34414484554104\n",
      "53.00477973219869\n",
      "30.658493860904453\n",
      "14.112783185468542\n",
      "3.892851683066874\n",
      "0.029894014959886743\n",
      "2.65366015833563\n",
      "11.6932323507549\n",
      "27.115582277657857\n",
      "48.829940958419016\n",
      "76.692556795283\n",
      "110.63641620241653\n",
      "149.98027715328823\n",
      "194.88280919123972\n",
      "244.55505890003903\n",
      "298.50909652830205\n",
      "356.87516087006156\n",
      "418.77362738933897\n",
      "483.5300357850458\n",
      "552.1701030263328\n",
      "623.4956264491173\n",
      "696.0376754670708\n",
      "767.3380145346267\n",
      "836.7238691330396\n",
      "906.5896253014845\n",
      "974.0455864837251\n",
      "1035.8446823978802\n",
      "1091.5555747460457\n",
      "1138.7828286706683\n",
      "1173.548988613376\n",
      "1198.6728631950798\n",
      "1210.70730407959\n",
      "1214.9314882912015\n",
      "1212.1841438218735\n",
      "1188.6552620687905\n",
      "1153.3272925296533\n",
      "1101.166686274629\n",
      "1040.3036466553056\n",
      "953.6459915219584\n",
      "869.54919847061\n",
      "782.0983624892381\n",
      "694.9041255619331\n",
      "610.8032166854645\n",
      "528.8017695910479\n",
      "450.5479519532126\n",
      "376.4651305037083\n",
      "304.2683721610229\n",
      "238.3321711481947\n",
      "179.13068933415457\n",
      "126.86279834033382\n",
      "82.39261836796506\n",
      "45.65697599495707\n",
      "18.40275200190398\n",
      "18.2746936734695\n",
      "17.987988408119243\n",
      "17.421648397847484\n",
      "16.735118457162\n",
      "15.727922505504736\n",
      "14.355002165891717\n",
      "12.78796209164787\n",
      "11.208590713411956\n",
      "9.527555332951374\n",
      "7.837533081615323\n",
      "6.05858163043553\n",
      "4.298454430667118\n",
      "2.672105224809054\n",
      "1.3872698482846642\n",
      "0.42728598578290883\n",
      "0.003733152559966349\n",
      "0.3486170472992484\n",
      "1.7400229108246308\n",
      "4.411573287589958\n",
      "8.636951123665495\n",
      "14.48650813608469\n",
      "22.36559026908528\n",
      "32.48632067409996\n",
      "45.199834815798965\n",
      "60.37039123738315\n",
      "78.66566914001416\n",
      "100.3419503591798\n",
      "125.58350005573348\n",
      "154.99954988711917\n",
      "189.26104028989388\n",
      "228.52374143756794\n",
      "273.18154779762966\n",
      "323.8601699523152\n",
      "381.11456840854726\n",
      "445.17917750890723\n",
      "513.5457325304669\n",
      "585.5908379288268\n",
      "659.0654406869132\n",
      "732.0272598963342\n",
      "808.2552509650412\n",
      "881.5359320177998\n",
      "949.6326268703552\n",
      "1013.7902067607104\n",
      "1078.0605924915776\n",
      "1136.3359814663083\n",
      "1192.7274844063634\n",
      "1240.165833314643\n",
      "1280.1778964161333\n",
      "1320.3378061020373\n",
      "1353.2934218346688\n",
      "1383.7870335473535\n",
      "1397.4453405263653\n",
      "1401.0657645503672\n",
      "1402.8668759892507\n",
      "1401.909738786767\n",
      "1391.9195649102373\n",
      "1377.0904058053518\n",
      "1361.4155461908936\n",
      "1345.5532368607865\n",
      "1330.6006849500086\n",
      "1317.1816763969373\n",
      "1301.3467700618503\n",
      "1264.8741183795842\n",
      "1222.4442787022008\n",
      "1180.1583896035988\n",
      "1136.4048808665882\n",
      "1090.262000860076\n",
      "1040.9241780065945\n",
      "991.6418888497439\n",
      "940.5194180865443\n",
      "889.2785194936815\n",
      "837.7285590805794\n",
      "786.1650843869699\n",
      "735.6907539423454\n",
      "685.2440547248399\n",
      "634.5292283391044\n",
      "584.2548251162976\n",
      "530.8510564662452\n",
      "475.8084907745803\n",
      "420.75165876606934\n",
      "366.6903828188233\n",
      "316.29146934238366\n",
      "267.7686104497195\n",
      "223.11015057737546\n",
      "181.04944191949042\n",
      "143.37290409664382\n",
      "109.13782527195114\n",
      "79.43131910863704\n",
      "53.97164722503633\n",
      "33.341585440616164\n",
      "17.61631642880958\n",
      "6.854797993159397\n",
      "1.02955647793616\n",
      "0.34641031698431957\n",
      "4.837353694359344\n",
      "14.484413200216773\n",
      "29.13125223016484\n",
      "48.7210133575971\n",
      "73.18968084640846\n",
      "102.37466669198741\n",
      "136.23429767017146\n",
      "173.97990085107207\n",
      "215.88942746745917\n",
      "261.1392416751183\n",
      "309.28762950504324\n",
      "360.5306284482901\n",
      "414.02890141276333\n",
      "469.1760313709813\n",
      "527.0210706989046\n",
      "586.4298968840351\n",
      "646.0474225501276\n",
      "703.5983525737398\n",
      "758.5617858071842\n",
      "813.229640834987\n",
      "864.9900891038137\n",
      "910.9962315958254\n",
      "950.9097769096054\n",
      "982.7838549173144\n",
      "1003.1947408050274\n",
      "1014.7780596315076\n",
      "1014.6657583536659\n",
      "1007.5800974339777\n",
      "994.4151231601398\n",
      "963.4782623367784\n",
      "922.7274486212125\n",
      "868.1899749366619\n",
      "806.9596738009667\n",
      "725.7072825624213\n",
      "647.8106386778172\n",
      "568.9306997432052\n",
      "491.92063662068796\n",
      "418.97419500137323\n",
      "349.4449334494076\n",
      "284.6927173481285\n",
      "225.09908986837425\n",
      "169.4465967258895\n",
      "120.74965926369588\n",
      "79.4937214894525\n",
      "46.020711951026406\n",
      "21.074007982793614\n",
      "5.1843111538380136\n",
      "0.030306082205591063\n",
      "[1.52702971 1.38206609 1.94304112 0.86273079 0.99806218 0.56680266]\n"
     ]
    }
   ],
   "source": [
    "# Deifining the cost function\n",
    "def cost(X_train,coef):\n",
    "    total_cost =0\n",
    "    for i in range(len(X_train)):\n",
    "        total_cost += (1/len(X_train))* ((X_train[i]*coef).sum()-Y_train[i])**2\n",
    "        return total_cost\n",
    "\n",
    "\n",
    "# Stochastic Gradient Descent\n",
    "def SGD(X_train,coef,lr,epoch):\n",
    "    for i in range(epoch):\n",
    "        derivative = np.zeros(6)\n",
    "        for j in range(len(X_train)):\n",
    "            for k in range(6):\n",
    "                derivative[k] += (1/len(X_train))* ((X_train[j]*coef).sum()-Y[j])*X_train[j][k]\n",
    "            coef = coef - lr*derivative\n",
    "            print(cost(X_train,coef))\n",
    "    \n",
    "    return coef\n",
    "                \n",
    "\n",
    "# Running Gradient Descent\n",
    "coef = np.zeros(6)\n",
    "lr = 0.0001\n",
    "epoch = 2\n",
    "coef = SGD(X_train,coef,lr,epoch)\n",
    "\n",
    "print(coef)\n"
   ]
  },
  {
   "cell_type": "code",
   "execution_count": 23,
   "id": "b99a1e73",
   "metadata": {},
   "outputs": [
    {
     "name": "stdout",
     "output_type": "stream",
     "text": [
      "MSE =  167861.65862860548\n",
      "RMSE =  409.7092366893935\n",
      "R Square error =  -0.5900648793637386\n"
     ]
    }
   ],
   "source": [
    "\n",
    "for i in range(len(X_test)):\n",
    "        Y_predict[i] = coef[0]*X_test[i][0]+coef[1]*X_test[i][1]+coef[2]*X_test[i][2]+coef[3]*X_test[i][3]+coef[4]*X_test[i][4]+coef[5]*X_test[i][5]\n",
    "\n",
    "\n",
    "mse = metrics.mean_squared_error(Y_test, Y_predict)\n",
    "\n",
    "print( 'MSE = ',mse)\n",
    "\n",
    "rmse = np.sqrt(mse) # or mse**(0.5) \n",
    "print('RMSE = ', rmse)\n",
    "r2 = metrics.r2_score(Y_test,Y_predict)\n",
    "print('R Square error = ', r2)\n"
   ]
  },
  {
   "cell_type": "markdown",
   "id": "d0d47f26",
   "metadata": {},
   "source": [
    "  "
   ]
  },
  {
   "cell_type": "markdown",
   "id": "08995490",
   "metadata": {},
   "source": [
    " "
   ]
  },
  {
   "cell_type": "markdown",
   "id": "c6c89bfa",
   "metadata": {},
   "source": [
    "#  Mini Batch Gradient Descent"
   ]
  },
  {
   "cell_type": "code",
   "execution_count": 24,
   "id": "c828a111",
   "metadata": {},
   "outputs": [
    {
     "name": "stdout",
     "output_type": "stream",
     "text": [
      "84.84685914024706\n",
      "74.56818647372815\n",
      "50.93668558581106\n",
      "20.8423451765871\n",
      "3.836539144692285\n",
      "0.9729477405705549\n",
      "15.128412791846095\n",
      "43.6633850402893\n",
      "83.76353710823477\n",
      "136.01535109413945\n",
      "215.49189182544606\n",
      "327.39380852965724\n",
      "[4.54637786 4.91696592 5.38403868 1.51629887 0.77075738 0.16587551]\n"
     ]
    }
   ],
   "source": [
    "# Deifining the cost function\n",
    "def cost(X_train,coef):\n",
    "    total_cost =0\n",
    "    for i in range(len(X_train)):\n",
    "        total_cost += (1/len(X_train))* ((X_train[i]*coef).sum()-Y_train[i])**2\n",
    "        return total_cost\n",
    "\n",
    "\n",
    "    \n",
    "# Stochastic Gradient Descent\n",
    "def SGD(X_train,coef,lr,epoch,batch_size):\n",
    "    for i in range(epoch):\n",
    "        derivative = np.zeros(6)\n",
    "        for j in range(len(X_train)):\n",
    "            for k in range(6):\n",
    "                derivative[k] += (1/len(X_train))* ((X_train[j]*coef).sum()-Y[j])*X_train[j][k]\n",
    "            \n",
    "            if (j%batch_size==0):  # Interation in cofficient value once cost for a perticular batch is calculated\n",
    "                coef = coef - lr*derivative\n",
    "                print(cost(X_train,coef))\n",
    "    \n",
    "    return coef\n",
    "                \n",
    "\n",
    "# Running Gradient Descent\n",
    "coef = np.zeros(6)\n",
    "lr = 0.0001\n",
    "epoch = 1\n",
    "Batch_size = 12\n",
    "coef = SGD(X_train,coef,lr,epoch, Batch_size)\n",
    "\n",
    "print(coef)"
   ]
  },
  {
   "cell_type": "code",
   "execution_count": 25,
   "id": "4d963b48",
   "metadata": {},
   "outputs": [
    {
     "name": "stdout",
     "output_type": "stream",
     "text": [
      "MSE =  45718.97828325844\n",
      "RMSE =  213.81996698919033\n",
      "R Square error =  0.5669282534051258\n"
     ]
    }
   ],
   "source": [
    "\n",
    "for i in range(len(X_test)):\n",
    "        Y_predict[i] = coef[0]*X_test[i][0]+coef[1]*X_test[i][1]+coef[2]*X_test[i][2]+coef[3]*X_test[i][3]+coef[4]*X_test[i][4]+coef[5]*X_test[i][5]\n",
    "\n",
    "\n",
    "mse = metrics.mean_squared_error(Y_test, Y_predict)\n",
    "\n",
    "print( 'MSE = ',mse)\n",
    "\n",
    "rmse = np.sqrt(mse) # or mse**(0.5) \n",
    "print('RMSE = ', rmse)\n",
    "r2 = metrics.r2_score(Y_test,Y_predict)\n",
    "print('R Square error = ', r2)\n"
   ]
  },
  {
   "cell_type": "markdown",
   "id": "e1b34906",
   "metadata": {},
   "source": [
    "# Conclusion"
   ]
  },
  {
   "cell_type": "markdown",
   "id": "d13edd42",
   "metadata": {},
   "source": [
    "As we used 4 different method to form the best model we found out that out of OLS and Gradient Descent, OLS provides more accuracy and suits way better.\n",
    "\n",
    "However to customize the itteration process Gradient Descent methods are to be used."
   ]
  },
  {
   "cell_type": "code",
   "execution_count": null,
   "id": "5d849796",
   "metadata": {},
   "outputs": [],
   "source": []
  }
 ],
 "metadata": {
  "kernelspec": {
   "display_name": "Python 3",
   "language": "python",
   "name": "python3"
  },
  "language_info": {
   "codemirror_mode": {
    "name": "ipython",
    "version": 3
   },
   "file_extension": ".py",
   "mimetype": "text/x-python",
   "name": "python",
   "nbconvert_exporter": "python",
   "pygments_lexer": "ipython3",
   "version": "3.8.8"
  }
 },
 "nbformat": 4,
 "nbformat_minor": 5
}
